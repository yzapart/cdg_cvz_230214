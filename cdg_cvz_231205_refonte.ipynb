{
 "cells": [
  {
   "cell_type": "code",
   "execution_count": 34,
   "metadata": {},
   "outputs": [],
   "source": [
    "import math\n",
    "import random\n",
    "import sys\n",
    "fib = [0, 1, 1, 2, 3, 5, 8, 13, 21, 34, 55, 89, 144, 233, 377, 610, 987, 1597, 2584, 4181, 6765, 10946, 17711, 28657, 46368, 75025, 121393, 196418, 317811, 514229, 832040, 1346269, 2178309, 3524578, 5702887, 9227465, 14930352, 24157817, 39088169, 63245986, 102334155, 165580141, 267914296, 433494437, 701408733, 1134903170, 1836311903, 2971215073, 4807526976, 7778742049]"
   ]
  },
  {
   "cell_type": "code",
   "execution_count": 35,
   "metadata": {},
   "outputs": [],
   "source": [
    "class Point:\n",
    "    def __init__(self, x, y):\n",
    "        self.x = x\n",
    "        self.y = y\n",
    "\n",
    "    def getDistance(self, p):\n",
    "        return math.floor(math.sqrt((self.x - p.x)**2 + (self.y - p.y)**2))\n",
    "\n",
    "    def __str__(self) -> str:\n",
    "        return 'x: ' + str(self.x) + ' '*max(0, len(str(self.x)) - 3) + '\\ty: ' + str(self.y) + ' '*max(0, len(str(self.x)) - 5) + '\\t'\n",
    "\n",
    "\n",
    "class Perso(Point):\n",
    "    def __init__(self, x, y):\n",
    "        Point.__init__(self, x, y)\n",
    "        self.x = x\n",
    "        self.y = y\n",
    "\n",
    "    def __str__(self) -> str:\n",
    "        return super().__str__()\n",
    "\n",
    "\n",
    "class Human(Point):\n",
    "    def __init__(self, id, x, y):\n",
    "        Point.__init__(self, x, y)\n",
    "        self.x = x\n",
    "        self.y = y\n",
    "        self.id = id\n",
    "\n",
    "    def __str__(self) -> str:\n",
    "        return super().__str__() + 'human id: ' + str(self.id)\n",
    "\n",
    "\n",
    "class Zombie(Point):\n",
    "    def __init__(self, id, x, y):\n",
    "        Point.__init__(self, x, y)\n",
    "        self.id = id\n",
    "        self.x = x\n",
    "        self.y = y\n",
    "\n",
    "    def __str__(self) -> str:\n",
    "        return super().__str__() + 'zombie id: ' + str(self.id)"
   ]
  },
  {
   "cell_type": "code",
   "execution_count": 177,
   "metadata": {},
   "outputs": [],
   "source": [
    "class Tour:\n",
    "    def __init__(self, i, ash, humans_list, zombies_list, score, out_x, out_y):\n",
    "        self.i = i\n",
    "        self.ash = ash\n",
    "        self.humans_list  = humans_list\n",
    "        self.zombies_list = zombies_list\n",
    "        self.score = score\n",
    "        self.out_x = out_x\n",
    "        self.out_y = out_y\n",
    "    \n",
    "    def getClosestZombie(self, point, z_list):\n",
    "        if z_list != []:\n",
    "            return sorted(z_list, key=lambda x: x.getDistance(point))[0]\n",
    "    \n",
    "    def getClosestHuman(self, point):\n",
    "        return sorted([h for h in self.humans_list], key=lambda x: x.getDistance(point))[0]\n",
    "    \n",
    "    def next_zombie_position(self, z):\n",
    "        human_cible = self.getClosestHuman(z)\n",
    "        if human_cible.getDistance(z) >= 400:\n",
    "            angle = math.atan2(human_cible.y - z.y, human_cible.x - z.x)\n",
    "            nx = math.floor(z.x + 400*math.cos(angle))\n",
    "            ny = math.floor(z.y + 400*math.sin(angle))\n",
    "        else:\n",
    "            nx,ny = human_cible.x, human_cible.y\n",
    "        return [nx, ny]\n",
    "    \n",
    "    def getNextZombiesPositions(self):\n",
    "        r=[]\n",
    "        for z in self.zombies_list:\n",
    "            [x,y] = self.next_zombie_position(z)\n",
    "            r.append(Zombie(z.id, x, y))\n",
    "        return r\n",
    "    \n",
    "    def getNextAsh(self, ash_mx, ash_my):\n",
    "        if self.ash.getDistance(Point(ash_mx, ash_my)) >= 1000:\n",
    "            angle = math.atan2(ash_my - self.ash.y, ash_mx - self.ash.x)\n",
    "            nx = math.floor(self.ash.x + 1000*math.cos(angle))\n",
    "            ny = math.floor(self.ash.y + 1000*math.sin(angle))\n",
    "        else:\n",
    "            nx, ny = ash_mx, ash_my\n",
    "        return Perso(nx, ny)\n",
    "    \n",
    "    def getNextZombiesList(self, z_list, ash): # ajout un argument ash (self.getNextAsh(ash_mx, ash_my) lorsqu'on l'appellera)\n",
    "        index = 0\n",
    "        r = []\n",
    "        for z in z_list:\n",
    "            if ash.getDistance(z) >= 2000:\n",
    "                r.append(Zombie(z.id, z.x, z.y))\n",
    "            else:\n",
    "                z_value = 10*len(self.humans_list[1:])**2*fib[index+2]\n",
    "                index += 1\n",
    "                self.score += z_value\n",
    "        return r\n",
    "\n",
    "    def getNextHumanList(self, z_list):\n",
    "        r = []\n",
    "        for h in self.humans_list:\n",
    "            if self.getClosestZombie(h,z_list).getDistance(h) != 0:\n",
    "                if h.id==0:\n",
    "                    h.x = self.getNextAsh(self.out_x, self.out_y).x\n",
    "                    h.y = self.getNextAsh(self.out_x, self.out_y).y\n",
    "                r.append(h)\n",
    "        return r\n",
    "    \n",
    "    def getNextTurn(self, out_x, out_y):\n",
    "        nextAsh = self.getNextAsh(4000,1000)\n",
    "        z_moved = self.getNextZombiesPositions()\n",
    "        z_survivals = self.getNextZombiesList(z_moved, self.getNextAsh(out_x, out_y))\n",
    "        if z_survivals == []:\n",
    "            # 0 zombie, tous les humains du tour précédant survivent\n",
    "            h_survivals = self.humans_list\n",
    "        else:\n",
    "            h_survivals = self.getNextHumanList(z_survivals)\n",
    "\n",
    "        if z_survivals != [] and h_survivals[1:] != []:\n",
    "            return Tour(self.i + 1, nextAsh, h_survivals, z_survivals, self.score, 4000, 1000)\n",
    "        else:\n",
    "            if h_survivals[1:] == []:\n",
    "                print('lose')\n",
    "            else:\n",
    "                print('win')\n",
    "\n",
    "    def allo(self):\n",
    "        print('---------- tour ' + str(self.i)  + ' -----('+ str(self.score)  + ')--------------------------', file=sys.stderr, flush=True)\n",
    "        # print('x,y = ' + str(x) + ',' + str(y), file=sys.stderr, flush=True)\n",
    "        print('[human_count, zombie_count] = [' + str(len(self.humans_list)-1) + ',' + str(len(self.zombies_list)) + ']', file=sys.stderr, flush=True)\n",
    "        s = 'humans_list  = ['\n",
    "        for h in self.humans_list:\n",
    "            s += 'Human(' + str(h.id) + ',' + str(h.x) + ',' + str(h.y) + '), '\n",
    "        s = s[:-2] + ']'\n",
    "        print(s, file=sys.stderr, flush=True)\n",
    "        print('---', file=sys.stderr, flush=True)\n",
    "        s = 'zombies_list  = ['\n",
    "        for z in self.zombies_list:\n",
    "            s += 'Zombie(' + str(z.id) + ',' + str(z.x) + ',' + str(z.y) + '), '\n",
    "        s = s[:-2] + ']'\n",
    "        print(s, file=sys.stderr, flush=True)\n",
    "        print('----------------------------------------------------------', file=sys.stderr, flush=True)\n",
    "\n"
   ]
  },
  {
   "cell_type": "code",
   "execution_count": null,
   "metadata": {},
   "outputs": [],
   "source": []
  },
  {
   "cell_type": "code",
   "execution_count": 178,
   "metadata": {},
   "outputs": [
    {
     "name": "stderr",
     "output_type": "stream",
     "text": [
      "---------- tour 0 -----(0)--------------------------\n",
      "[human_count, zombie_count] = [2,16]\n",
      "humans_list  = [Human(0,4000,1000), Human(1,0,1000), Human(2,0,8000)]\n",
      "---\n",
      "zombies_list  = [Zombie(0,5000,1000), Zombie(1,5000,8000), Zombie(2,7000,1000), Zombie(3,7000,8000), Zombie(4,9000,1000), Zombie(5,9000,8000), Zombie(6,11000,1000), Zombie(7,11000,8000), Zombie(8,13000,1000), Zombie(9,13000,8000), Zombie(10,14000,1000), Zombie(11,14000,8000), Zombie(12,14500,1000), Zombie(13,14500,8000), Zombie(14,15000,1000), Zombie(15,15000,8000)]\n",
      "----------------------------------------------------------\n",
      "---------- tour 1 -----(40)--------------------------\n",
      "[human_count, zombie_count] = [2,15]\n",
      "humans_list  = [Human(0,4000,1000), Human(1,0,1000), Human(2,0,8000)]\n",
      "---\n",
      "zombies_list  = [Zombie(1,4600,8000), Zombie(2,6600,1000), Zombie(3,6600,8000), Zombie(4,8600,1000), Zombie(5,8767,7674), Zombie(6,10600,1000), Zombie(7,10717,7717), Zombie(8,12600,1000), Zombie(9,12684,7754), Zombie(10,13600,1000), Zombie(11,13672,7770), Zombie(12,14100,1000), Zombie(13,14167,7778), Zombie(14,14600,1000), Zombie(15,14662,7785)]\n",
      "----------------------------------------------------------\n"
     ]
    }
   ],
   "source": [
    "x,y = 4000,1000\n",
    "[human_count, zombie_count] = [2,16]\n",
    "humans_list  = [Human(0,4000,1000), Human(1,0,1000), Human(2,0,8000)]\n",
    "zombies_list  = [Zombie(0,5000,1000), Zombie(1,5000,8000), Zombie(2,7000,1000), Zombie(3,7000,8000), Zombie(4,9000,1000), Zombie(5,9000,8000), Zombie(6,11000,1000), Zombie(7,11000,8000), Zombie(8,13000,1000), Zombie(9,13000,8000), Zombie(10,14000,1000), Zombie(11,14000,8000), Zombie(12,14500,1000), Zombie(13,14500,8000), Zombie(14,15000,1000), Zombie(15,15000,8000)]\n",
    "t0 = Tour(0, Perso(x,y), humans_list, zombies_list, 0,  4000, 1000)\n",
    "t0.allo()\n",
    "t0.getNextTurn(4000,1000).allo()\n"
   ]
  },
  {
   "cell_type": "code",
   "execution_count": 179,
   "metadata": {},
   "outputs": [
    {
     "name": "stderr",
     "output_type": "stream",
     "text": [
      "---------- tour 0 -----(0)--------------------------\n",
      "[human_count, zombie_count] = [1,1]\n",
      "humans_list  = [Human(0,4000,1000), Human(2,0,8000)]\n",
      "---\n",
      "zombies_list  = [Zombie(0,450,8000)]\n",
      "----------------------------------------------------------\n",
      "---------- tour 1 -----(0)--------------------------\n",
      "[human_count, zombie_count] = [1,1]\n",
      "humans_list  = [Human(0,14156,7463), Human(2,0,8000)]\n",
      "---\n",
      "zombies_list  = [Zombie(0,50,8000)]\n",
      "----------------------------------------------------------\n"
     ]
    },
    {
     "name": "stdout",
     "output_type": "stream",
     "text": [
      "lose\n"
     ]
    }
   ],
   "source": [
    "x,y = 15000,8000\n",
    "[human_count, zombie_count] = [1,1]\n",
    "humans_list  = [Human(0,4000,1000), Human(2,0,8000)]\n",
    "zombies_list  = [Zombie(0,450,8000)]\n",
    "t0 = Tour(0, Perso(x,y), humans_list, zombies_list, 0,  4000, 1000)\n",
    "t0.allo()\n",
    "t0.getNextTurn(4000,1000).allo()\n",
    "t0.getNextTurn(4000,1000).getNextTurn(4000,1000)"
   ]
  },
  {
   "cell_type": "code",
   "execution_count": null,
   "metadata": {},
   "outputs": [],
   "source": []
  },
  {
   "cell_type": "code",
   "execution_count": null,
   "metadata": {},
   "outputs": [],
   "source": []
  }
 ],
 "metadata": {
  "kernelspec": {
   "display_name": "base",
   "language": "python",
   "name": "python3"
  },
  "language_info": {
   "codemirror_mode": {
    "name": "ipython",
    "version": 3
   },
   "file_extension": ".py",
   "mimetype": "text/x-python",
   "name": "python",
   "nbconvert_exporter": "python",
   "pygments_lexer": "ipython3",
   "version": "3.9.13"
  },
  "orig_nbformat": 4,
  "vscode": {
   "interpreter": {
    "hash": "07e5202df0503ce54636412205e2eb702625ca07de1dbb98a31772939453e8c8"
   }
  }
 },
 "nbformat": 4,
 "nbformat_minor": 2
}

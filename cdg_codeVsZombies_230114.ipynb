{
 "cells": [
  {
   "cell_type": "code",
   "execution_count": 1,
   "metadata": {},
   "outputs": [],
   "source": [
    "import sys\n",
    "import math"
   ]
  },
  {
   "cell_type": "code",
   "execution_count": 275,
   "metadata": {},
   "outputs": [],
   "source": [
    "class Point:\n",
    "    def __init__(self, x, y):\n",
    "        self.x = x\n",
    "        self.y = y\n",
    "\n",
    "    def getDistance(self, p):\n",
    "        return math.floor(math.sqrt((self.x - p.x)**2 + (self.y - p.y)**2))\n",
    "\n",
    "    def __str__(self) -> str:\n",
    "        return 'x: ' + str(self.x) + ' '*max(0, len(str(self.x)) - 3) + '\\ty: ' + str(self.y) + ' '*max(0, len(str(self.x)) - 5) + '\\t'\n",
    "\n",
    "\n",
    "class Perso(Point):\n",
    "    def __init__(self, x, y):\n",
    "        Point.__init__(self, x, y)\n",
    "        self.x = x\n",
    "        self.y = y\n",
    "\n",
    "    def __str__(self) -> str:\n",
    "        return super().__str__()\n",
    "\n",
    "\n",
    "class Human(Point):\n",
    "    def __init__(self, id, x, y):\n",
    "        Point.__init__(self, x, y)\n",
    "        self.x = x\n",
    "        self.y = y\n",
    "        self.id = id\n",
    "\n",
    "    def __str__(self) -> str:\n",
    "        return super().__str__() + 'human id: ' + str(self.id)\n",
    "\n",
    "\n",
    "class Zombie(Point):\n",
    "    def __init__(self, id, x, y):\n",
    "        Point.__init__(self, x, y)\n",
    "        self.id = id\n",
    "        self.x = x\n",
    "        self.y = y\n",
    "\n",
    "    def __str__(self) -> str:\n",
    "        return super().__str__() + 'zombie id: ' + str(self.id)\n",
    "    \n",
    "    \n",
    "    \n",
    "class Tour:\n",
    "    def __init__(self, i, ash, humans_list, zombies_list):\n",
    "        self.i = i\n",
    "        self.ash = ash\n",
    "        self.humans_list  = humans_list\n",
    "        self.zombies_list = zombies_list\n",
    "\n",
    "    def getClosestZombie(self, p):\n",
    "        return sorted(self.zombies_list, key=lambda x: x.getDistance(p))[0]\n",
    "    \n",
    "    def getClosestHuman(self, p):\n",
    "        return sorted([h for h in self.humans_list], key=lambda x: x.getDistance(p))[0]\n",
    "    \n",
    "    def getNextAshPosition(self, ash_mx, ash_my):\n",
    "        if self.ash.getDistance(Point(ash_mx, ash_my)) >= 2000:\n",
    "            angle = math.atan2(ash_my - self.ash.y, ash_mx - self.ash.x)\n",
    "            nx = math.floor(self.ash.x + 1000*math.cos(angle))\n",
    "            ny = math.floor(self.ash.y + 1000*math.sin(angle))\n",
    "        else:\n",
    "            nx, ny = ash_mx, ash_my\n",
    "        return [nx, ny]\n",
    "    \n",
    "    def next_zombie_position(self, z):\n",
    "        human_cible = self.getClosestHuman(z)\n",
    "        if human_cible.getDistance(z) >= 400:\n",
    "            angle = math.atan2(human_cible.y - z.y, human_cible.x - z.x)\n",
    "            nx = math.floor(z.x + 400*math.cos(angle))\n",
    "            ny = math.floor(z.y + 400*math.sin(angle))\n",
    "        else:\n",
    "            nx,ny = human_cible.x, human_cible.y\n",
    "        return [nx, ny]\n",
    "    \n",
    "    def getNextZombiesList(self):\n",
    "        r = []\n",
    "        for z in self.zombies_list:\n",
    "            [x,y] = self.next_zombie_position(z)\n",
    "            if self.ash.getDistance(z) >= 2000:\n",
    "                r.append(Zombie(z.id, x, y))\n",
    "        return r\n",
    "    \n",
    "    def getNextHumanList(self):\n",
    "        r = []\n",
    "        for h in self.humans_list:\n",
    "            if self.getClosestZombie(h).getDistance(h) >= 400:\n",
    "                r.append(h)\n",
    "        return r\n",
    "    \n",
    "                \n",
    "    def getNextTurn(self):\n",
    "        return Tour(self.i + 1, Perso(self.getNextAshPosition(950,6000)[0], self.getNextAshPosition(950,6000)[1]), self.getNextHumanList(), self.getNextZombiesList())\n",
    "    \n",
    "    \n",
    "    "
   ]
  },
  {
   "cell_type": "code",
   "execution_count": 284,
   "metadata": {},
   "outputs": [],
   "source": [
    "# turn 1\n",
    "# ================================================\n",
    "x,y = 5000,0\n",
    "[human_count, zombie_count] = [2,2]\n",
    "humans_list  = [Human(0,950,6000), Human(1,8000,6100)]\n",
    "zombies_list  = [Zombie(0,3100,7000), Zombie(1,11500,7100)]\n"
   ]
  },
  {
   "cell_type": "code",
   "execution_count": 285,
   "metadata": {},
   "outputs": [
    {
     "name": "stderr",
     "output_type": "stream",
     "text": [
      "---\n",
      "x,y = 5000,0\n",
      "[human_count, zombie_count] = [2,2]\n",
      "humans_list  = [Human(0, 5000, 0), Human(1,950,6000), Human(2,8000,6100)]\n",
      "zombies_list  = [Zombie(0,3100,7000), Zombie(1,11500,7100)]\n",
      "---\n"
     ]
    }
   ],
   "source": [
    "\n",
    "# ================================================\n",
    "print('---', file=sys.stderr, flush=True)\n",
    "print('x,y = ' + str(x) + ',' + str(y), file=sys.stderr, flush=True)\n",
    "print('[human_count, zombie_count] = [' + str(human_count) + ',' + str(zombie_count) + ']', file=sys.stderr, flush=True)\n",
    "s = 'humans_list  = [Human(0, '+str(x)+', '+str(y)+'), '\n",
    "for h in humans_list:\n",
    "    s += 'Human(' + str(h.id + 1) + ',' + str(h.x) + ',' + str(h.y) + '), '\n",
    "s = s[:-2] + ']'\n",
    "print(s, file=sys.stderr, flush=True)\n",
    "s = 'zombies_list  = ['\n",
    "for z in zombies_list:\n",
    "    s += 'Zombie(' + str(z.id) + ',' + str(z.x) + ',' + str(z.y) + '), '\n",
    "s = s[:-2] + ']'\n",
    "print(s, file=sys.stderr, flush=True)\n",
    "print('---', file=sys.stderr, flush=True)\n",
    "# ================================================\n",
    "tour_list = [Tour(1, Perso(x,y), humans_list, zombies_list)]"
   ]
  },
  {
   "cell_type": "code",
   "execution_count": null,
   "metadata": {},
   "outputs": [],
   "source": []
  },
  {
   "cell_type": "code",
   "execution_count": 286,
   "metadata": {},
   "outputs": [
    {
     "name": "stdout",
     "output_type": "stream",
     "text": [
      "5000\n"
     ]
    }
   ],
   "source": [
    "t = tour_list[0]\n",
    "print(t.ash.x)"
   ]
  },
  {
   "cell_type": "code",
   "execution_count": 287,
   "metadata": {},
   "outputs": [],
   "source": [
    "for i in range(2,10):\n",
    "    tour_list.append(tour_list[-1].getNextTurn())"
   ]
  },
  {
   "cell_type": "code",
   "execution_count": 288,
   "metadata": {},
   "outputs": [
    {
     "data": {
      "text/plain": [
       "['x: 3100 \\ty: 7000\\tzombie id: 0',\n",
       " 'x: 2737 \\ty: 6831\\tzombie id: 0',\n",
       " 'x: 2374 \\ty: 6662\\tzombie id: 0',\n",
       " 'x: 2011 \\ty: 6493\\tzombie id: 0',\n",
       " 'x: 1648 \\ty: 6324\\tzombie id: 0',\n",
       " 'x: 1285 \\ty: 6155\\tzombie id: 0',\n",
       " 'x: 950\\ty: 6000\\tzombie id: 0',\n",
       " 'x: 8805 \\ty: 6330\\tzombie id: 1',\n",
       " 'x: 8420 \\ty: 6220\\tzombie id: 1']"
      ]
     },
     "execution_count": 288,
     "metadata": {},
     "output_type": "execute_result"
    }
   ],
   "source": [
    "[str(t.zombies_list[0]) for t in tour_list]"
   ]
  },
  {
   "cell_type": "code",
   "execution_count": 289,
   "metadata": {},
   "outputs": [
    {
     "data": {
      "text/plain": [
       "[2, 2, 2, 2, 2, 2, 1, 1, 1]"
      ]
     },
     "execution_count": 289,
     "metadata": {},
     "output_type": "execute_result"
    }
   ],
   "source": [
    "[len(t.humans_list) for t in tour_list]"
   ]
  },
  {
   "cell_type": "code",
   "execution_count": 290,
   "metadata": {},
   "outputs": [
    {
     "data": {
      "text/plain": [
       "['x: 5000 \\ty: 0\\t',\n",
       " 'x: 4440 \\ty: 828\\t',\n",
       " 'x: 3880 \\ty: 1656\\t',\n",
       " 'x: 3320 \\ty: 2485\\t',\n",
       " 'x: 2760 \\ty: 3314\\t',\n",
       " 'x: 2201 \\ty: 4143\\t',\n",
       " 'x: 1642 \\ty: 4972\\t',\n",
       " 'x: 950\\ty: 6000\\t',\n",
       " 'x: 950\\ty: 6000\\t']"
      ]
     },
     "execution_count": 290,
     "metadata": {},
     "output_type": "execute_result"
    }
   ],
   "source": [
    "[str(t.ash) for t in tour_list]"
   ]
  },
  {
   "cell_type": "code",
   "execution_count": 291,
   "metadata": {},
   "outputs": [
    {
     "data": {
      "text/plain": [
       "[<__main__.Human at 0x21077af97e0>]"
      ]
     },
     "execution_count": 291,
     "metadata": {},
     "output_type": "execute_result"
    }
   ],
   "source": [
    "tour_list[-1].humans_list"
   ]
  },
  {
   "cell_type": "code",
   "execution_count": null,
   "metadata": {},
   "outputs": [],
   "source": []
  }
 ],
 "metadata": {
  "kernelspec": {
   "display_name": "Python 3",
   "language": "python",
   "name": "python3"
  },
  "language_info": {
   "codemirror_mode": {
    "name": "ipython",
    "version": 3
   },
   "file_extension": ".py",
   "mimetype": "text/x-python",
   "name": "python",
   "nbconvert_exporter": "python",
   "pygments_lexer": "ipython3",
   "version": "3.10.10"
  },
  "orig_nbformat": 4,
  "vscode": {
   "interpreter": {
    "hash": "8407a3fab9c8e8b7267fcc0f48888f0da2dc474dc805d2bb2f71a9c0116af57e"
   }
  }
 },
 "nbformat": 4,
 "nbformat_minor": 2
}
